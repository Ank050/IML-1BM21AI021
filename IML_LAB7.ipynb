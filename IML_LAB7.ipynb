{
  "nbformat": 4,
  "nbformat_minor": 0,
  "metadata": {
    "colab": {
      "provenance": []
    },
    "kernelspec": {
      "name": "python3",
      "display_name": "Python 3"
    },
    "language_info": {
      "name": "python"
    }
  },
  "cells": [
    {
      "cell_type": "markdown",
      "source": [
        "# 6) Expectation maximization"
      ],
      "metadata": {
        "id": "3_9XEtjF6Hxz"
      }
    },
    {
      "cell_type": "code",
      "source": [
        "from sklearn import mixture\n",
        "from sklearn.datasets import load_iris\n",
        "import numpy as np\n",
        "\n",
        "iris = load_iris()\n",
        "X = iris.data\n",
        "\n",
        "gmm = mixture.GaussianMixture(n_components=3, random_state=42)\n",
        "\n",
        "gmm.fit(X)\n",
        "\n",
        "cluster_labels = gmm.predict(X)\n",
        "\n",
        "iris_with_labels = np.column_stack((X, cluster_labels))\n",
        "\n",
        "print(\"Predicted Cluster Labels:\")\n",
        "print(cluster_labels)\n",
        "print(\"\\nDataset with Cluster Labels:\")\n",
        "print(iris_with_labels)\n"
      ],
      "metadata": {
        "colab": {
          "base_uri": "https://localhost:8080/"
        },
        "id": "_DjC5UBk6Hgr",
        "outputId": "c1f9d773-ab4c-442d-c968-de46e5b9f745"
      },
      "execution_count": null,
      "outputs": [
        {
          "output_type": "stream",
          "name": "stdout",
          "text": [
            "Predicted Cluster Labels:\n",
            "[1 1 1 1 1 1 1 1 1 1 1 1 1 1 1 1 1 1 1 1 1 1 1 1 1 1 1 1 1 1 1 1 1 1 1 1 1\n",
            " 1 1 1 1 1 1 1 1 1 1 1 1 1 2 2 2 2 2 2 2 2 2 2 2 2 2 2 2 2 2 2 0 2 0 2 0 2\n",
            " 2 2 2 0 2 2 2 2 2 0 2 2 2 2 2 2 2 2 2 2 2 2 2 2 2 2 0 0 0 0 0 0 0 0 0 0 0\n",
            " 0 0 0 0 0 0 0 0 0 0 0 0 0 0 0 0 0 0 0 0 0 0 0 0 0 0 0 0 0 0 0 0 0 0 0 0 0\n",
            " 0 0]\n",
            "\n",
            "Dataset with Cluster Labels:\n",
            "[[5.1 3.5 1.4 0.2 1. ]\n",
            " [4.9 3.  1.4 0.2 1. ]\n",
            " [4.7 3.2 1.3 0.2 1. ]\n",
            " [4.6 3.1 1.5 0.2 1. ]\n",
            " [5.  3.6 1.4 0.2 1. ]\n",
            " [5.4 3.9 1.7 0.4 1. ]\n",
            " [4.6 3.4 1.4 0.3 1. ]\n",
            " [5.  3.4 1.5 0.2 1. ]\n",
            " [4.4 2.9 1.4 0.2 1. ]\n",
            " [4.9 3.1 1.5 0.1 1. ]\n",
            " [5.4 3.7 1.5 0.2 1. ]\n",
            " [4.8 3.4 1.6 0.2 1. ]\n",
            " [4.8 3.  1.4 0.1 1. ]\n",
            " [4.3 3.  1.1 0.1 1. ]\n",
            " [5.8 4.  1.2 0.2 1. ]\n",
            " [5.7 4.4 1.5 0.4 1. ]\n",
            " [5.4 3.9 1.3 0.4 1. ]\n",
            " [5.1 3.5 1.4 0.3 1. ]\n",
            " [5.7 3.8 1.7 0.3 1. ]\n",
            " [5.1 3.8 1.5 0.3 1. ]\n",
            " [5.4 3.4 1.7 0.2 1. ]\n",
            " [5.1 3.7 1.5 0.4 1. ]\n",
            " [4.6 3.6 1.  0.2 1. ]\n",
            " [5.1 3.3 1.7 0.5 1. ]\n",
            " [4.8 3.4 1.9 0.2 1. ]\n",
            " [5.  3.  1.6 0.2 1. ]\n",
            " [5.  3.4 1.6 0.4 1. ]\n",
            " [5.2 3.5 1.5 0.2 1. ]\n",
            " [5.2 3.4 1.4 0.2 1. ]\n",
            " [4.7 3.2 1.6 0.2 1. ]\n",
            " [4.8 3.1 1.6 0.2 1. ]\n",
            " [5.4 3.4 1.5 0.4 1. ]\n",
            " [5.2 4.1 1.5 0.1 1. ]\n",
            " [5.5 4.2 1.4 0.2 1. ]\n",
            " [4.9 3.1 1.5 0.2 1. ]\n",
            " [5.  3.2 1.2 0.2 1. ]\n",
            " [5.5 3.5 1.3 0.2 1. ]\n",
            " [4.9 3.6 1.4 0.1 1. ]\n",
            " [4.4 3.  1.3 0.2 1. ]\n",
            " [5.1 3.4 1.5 0.2 1. ]\n",
            " [5.  3.5 1.3 0.3 1. ]\n",
            " [4.5 2.3 1.3 0.3 1. ]\n",
            " [4.4 3.2 1.3 0.2 1. ]\n",
            " [5.  3.5 1.6 0.6 1. ]\n",
            " [5.1 3.8 1.9 0.4 1. ]\n",
            " [4.8 3.  1.4 0.3 1. ]\n",
            " [5.1 3.8 1.6 0.2 1. ]\n",
            " [4.6 3.2 1.4 0.2 1. ]\n",
            " [5.3 3.7 1.5 0.2 1. ]\n",
            " [5.  3.3 1.4 0.2 1. ]\n",
            " [7.  3.2 4.7 1.4 2. ]\n",
            " [6.4 3.2 4.5 1.5 2. ]\n",
            " [6.9 3.1 4.9 1.5 2. ]\n",
            " [5.5 2.3 4.  1.3 2. ]\n",
            " [6.5 2.8 4.6 1.5 2. ]\n",
            " [5.7 2.8 4.5 1.3 2. ]\n",
            " [6.3 3.3 4.7 1.6 2. ]\n",
            " [4.9 2.4 3.3 1.  2. ]\n",
            " [6.6 2.9 4.6 1.3 2. ]\n",
            " [5.2 2.7 3.9 1.4 2. ]\n",
            " [5.  2.  3.5 1.  2. ]\n",
            " [5.9 3.  4.2 1.5 2. ]\n",
            " [6.  2.2 4.  1.  2. ]\n",
            " [6.1 2.9 4.7 1.4 2. ]\n",
            " [5.6 2.9 3.6 1.3 2. ]\n",
            " [6.7 3.1 4.4 1.4 2. ]\n",
            " [5.6 3.  4.5 1.5 2. ]\n",
            " [5.8 2.7 4.1 1.  2. ]\n",
            " [6.2 2.2 4.5 1.5 0. ]\n",
            " [5.6 2.5 3.9 1.1 2. ]\n",
            " [5.9 3.2 4.8 1.8 0. ]\n",
            " [6.1 2.8 4.  1.3 2. ]\n",
            " [6.3 2.5 4.9 1.5 0. ]\n",
            " [6.1 2.8 4.7 1.2 2. ]\n",
            " [6.4 2.9 4.3 1.3 2. ]\n",
            " [6.6 3.  4.4 1.4 2. ]\n",
            " [6.8 2.8 4.8 1.4 2. ]\n",
            " [6.7 3.  5.  1.7 0. ]\n",
            " [6.  2.9 4.5 1.5 2. ]\n",
            " [5.7 2.6 3.5 1.  2. ]\n",
            " [5.5 2.4 3.8 1.1 2. ]\n",
            " [5.5 2.4 3.7 1.  2. ]\n",
            " [5.8 2.7 3.9 1.2 2. ]\n",
            " [6.  2.7 5.1 1.6 0. ]\n",
            " [5.4 3.  4.5 1.5 2. ]\n",
            " [6.  3.4 4.5 1.6 2. ]\n",
            " [6.7 3.1 4.7 1.5 2. ]\n",
            " [6.3 2.3 4.4 1.3 2. ]\n",
            " [5.6 3.  4.1 1.3 2. ]\n",
            " [5.5 2.5 4.  1.3 2. ]\n",
            " [5.5 2.6 4.4 1.2 2. ]\n",
            " [6.1 3.  4.6 1.4 2. ]\n",
            " [5.8 2.6 4.  1.2 2. ]\n",
            " [5.  2.3 3.3 1.  2. ]\n",
            " [5.6 2.7 4.2 1.3 2. ]\n",
            " [5.7 3.  4.2 1.2 2. ]\n",
            " [5.7 2.9 4.2 1.3 2. ]\n",
            " [6.2 2.9 4.3 1.3 2. ]\n",
            " [5.1 2.5 3.  1.1 2. ]\n",
            " [5.7 2.8 4.1 1.3 2. ]\n",
            " [6.3 3.3 6.  2.5 0. ]\n",
            " [5.8 2.7 5.1 1.9 0. ]\n",
            " [7.1 3.  5.9 2.1 0. ]\n",
            " [6.3 2.9 5.6 1.8 0. ]\n",
            " [6.5 3.  5.8 2.2 0. ]\n",
            " [7.6 3.  6.6 2.1 0. ]\n",
            " [4.9 2.5 4.5 1.7 0. ]\n",
            " [7.3 2.9 6.3 1.8 0. ]\n",
            " [6.7 2.5 5.8 1.8 0. ]\n",
            " [7.2 3.6 6.1 2.5 0. ]\n",
            " [6.5 3.2 5.1 2.  0. ]\n",
            " [6.4 2.7 5.3 1.9 0. ]\n",
            " [6.8 3.  5.5 2.1 0. ]\n",
            " [5.7 2.5 5.  2.  0. ]\n",
            " [5.8 2.8 5.1 2.4 0. ]\n",
            " [6.4 3.2 5.3 2.3 0. ]\n",
            " [6.5 3.  5.5 1.8 0. ]\n",
            " [7.7 3.8 6.7 2.2 0. ]\n",
            " [7.7 2.6 6.9 2.3 0. ]\n",
            " [6.  2.2 5.  1.5 0. ]\n",
            " [6.9 3.2 5.7 2.3 0. ]\n",
            " [5.6 2.8 4.9 2.  0. ]\n",
            " [7.7 2.8 6.7 2.  0. ]\n",
            " [6.3 2.7 4.9 1.8 0. ]\n",
            " [6.7 3.3 5.7 2.1 0. ]\n",
            " [7.2 3.2 6.  1.8 0. ]\n",
            " [6.2 2.8 4.8 1.8 0. ]\n",
            " [6.1 3.  4.9 1.8 0. ]\n",
            " [6.4 2.8 5.6 2.1 0. ]\n",
            " [7.2 3.  5.8 1.6 0. ]\n",
            " [7.4 2.8 6.1 1.9 0. ]\n",
            " [7.9 3.8 6.4 2.  0. ]\n",
            " [6.4 2.8 5.6 2.2 0. ]\n",
            " [6.3 2.8 5.1 1.5 0. ]\n",
            " [6.1 2.6 5.6 1.4 0. ]\n",
            " [7.7 3.  6.1 2.3 0. ]\n",
            " [6.3 3.4 5.6 2.4 0. ]\n",
            " [6.4 3.1 5.5 1.8 0. ]\n",
            " [6.  3.  4.8 1.8 0. ]\n",
            " [6.9 3.1 5.4 2.1 0. ]\n",
            " [6.7 3.1 5.6 2.4 0. ]\n",
            " [6.9 3.1 5.1 2.3 0. ]\n",
            " [5.8 2.7 5.1 1.9 0. ]\n",
            " [6.8 3.2 5.9 2.3 0. ]\n",
            " [6.7 3.3 5.7 2.5 0. ]\n",
            " [6.7 3.  5.2 2.3 0. ]\n",
            " [6.3 2.5 5.  1.9 0. ]\n",
            " [6.5 3.  5.2 2.  0. ]\n",
            " [6.2 3.4 5.4 2.3 0. ]\n",
            " [5.9 3.  5.1 1.8 0. ]]\n"
          ]
        }
      ]
    },
    {
      "cell_type": "markdown",
      "source": [
        "# 7)Random Forest"
      ],
      "metadata": {
        "id": "bVmlbS3h5nmi"
      }
    },
    {
      "cell_type": "code",
      "execution_count": null,
      "metadata": {
        "colab": {
          "base_uri": "https://localhost:8080/"
        },
        "id": "Hx8RJ5m65cnq",
        "outputId": "06609af2-a2dd-4659-eac7-087c9c0b98f1"
      },
      "outputs": [
        {
          "output_type": "stream",
          "name": "stdout",
          "text": [
            "Accuracy: 1.00\n",
            "Classification Report:\n",
            "              precision    recall  f1-score   support\n",
            "\n",
            "           0       1.00      1.00      1.00        10\n",
            "           1       1.00      1.00      1.00         9\n",
            "           2       1.00      1.00      1.00        11\n",
            "\n",
            "    accuracy                           1.00        30\n",
            "   macro avg       1.00      1.00      1.00        30\n",
            "weighted avg       1.00      1.00      1.00        30\n",
            "\n"
          ]
        }
      ],
      "source": [
        "from sklearn.datasets import load_iris\n",
        "from sklearn.model_selection import train_test_split\n",
        "from sklearn.ensemble import RandomForestClassifier\n",
        "from sklearn.metrics import accuracy_score, classification_report\n",
        "iris = load_iris()\n",
        "X = iris.data\n",
        "y = iris.target\n",
        "\n",
        "X_train, X_test, y_train, y_test = train_test_split(X, y, test_size=0.2, random_state=42)\n",
        "\n",
        "random_forest_classifier = RandomForestClassifier(n_estimators=100, random_state=42)\n",
        "\n",
        "random_forest_classifier.fit(X_train, y_train)\n",
        "\n",
        "y_pred = random_forest_classifier.predict(X_test)\n",
        "\n",
        "accuracy = accuracy_score(y_test, y_pred)\n",
        "classification_report_output = classification_report(y_test, y_pred)\n",
        "\n",
        "print(f'Accuracy: {accuracy:.2f}')\n",
        "print('Classification Report:')\n",
        "print(classification_report_output)\n"
      ]
    },
    {
      "cell_type": "markdown",
      "source": [
        "# 8)K Means"
      ],
      "metadata": {
        "id": "aRv5YgLm53iT"
      }
    },
    {
      "cell_type": "code",
      "source": [
        "from sklearn.cluster import KMeans\n",
        "from sklearn.datasets import load_iris\n",
        "import numpy as np\n",
        "import matplotlib.pyplot as plt\n",
        "\n",
        "iris = load_iris()\n",
        "X = iris.data\n",
        "\n",
        "kmeans = KMeans(n_clusters=3, random_state=42)\n",
        "\n",
        "kmeans.fit(X)\n",
        "\n",
        "cluster_labels = kmeans.labels_\n",
        "\n",
        "iris_with_labels = np.column_stack((X, cluster_labels))\n",
        "\n",
        "plt.figure(figsize=(10, 6))\n",
        "\n",
        "plt.scatter(X[:, 0], X[:, 1], c=cluster_labels, cmap='viridis', edgecolors='k', s=50)\n",
        "plt.scatter(kmeans.cluster_centers_[:, 0], kmeans.cluster_centers_[:, 1], marker='X', s=200, c='red', label='Centroids')\n",
        "\n",
        "plt.title('K-Means Clustering on Iris Dataset')\n",
        "plt.xlabel(iris.feature_names[0])\n",
        "plt.ylabel(iris.feature_names[1])\n",
        "plt.legend()\n",
        "plt.show()\n"
      ],
      "metadata": {
        "colab": {
          "base_uri": "https://localhost:8080/",
          "height": 619
        },
        "id": "yrFyYSOg52XM",
        "outputId": "f12ab7ca-17bf-4cd1-a7af-21c029034145"
      },
      "execution_count": null,
      "outputs": [
        {
          "output_type": "stream",
          "name": "stderr",
          "text": [
            "/usr/local/lib/python3.10/dist-packages/sklearn/cluster/_kmeans.py:870: FutureWarning: The default value of `n_init` will change from 10 to 'auto' in 1.4. Set the value of `n_init` explicitly to suppress the warning\n",
            "  warnings.warn(\n"
          ]
        },
        {
          "output_type": "display_data",
          "data": {
            "text/plain": [
              "<Figure size 1000x600 with 1 Axes>"
            ],
            "image/png": "[encoded data removed]"
          },
          "metadata": {}
        }
      ]
    },
    {
      "cell_type": "markdown",
      "source": [
        "# 9)Apriori"
      ],
      "metadata": {
        "id": "wXZ2yktr7aXD"
      }
    },
    {
      "cell_type": "code",
      "source": [
        "from itertools import chain, combinations\n",
        "from collections import defaultdict\n",
        "\n",
        "# Function to generate candidate itemsets\n",
        "def generate_candidates(itemset, length):\n",
        "    candidates = set()\n",
        "    for item1 in itemset:\n",
        "        for item2 in itemset:\n",
        "            union_set = item1.union(item2)\n",
        "            if len(union_set) == length:\n",
        "                candidates.add(union_set)\n",
        "    return candidates\n",
        "\n",
        "# Function to prune infrequent itemsets\n",
        "def prune_itemsets(itemsets, min_support, transactions):\n",
        "    frequent_itemsets = {}\n",
        "    item_count = defaultdict(int)\n",
        "\n",
        "    for transaction in transactions:\n",
        "        for itemset in itemsets:\n",
        "            if itemset.issubset(transaction):\n",
        "                item_count[itemset] += 1\n",
        "\n",
        "    for itemset, count in item_count.items():\n",
        "        support = count / len(transactions)\n",
        "        if support >= min_support:\n",
        "            frequent_itemsets[itemset] = support\n",
        "\n",
        "    return frequent_itemsets\n",
        "\n",
        "def apriori_algorithm(transactions, min_support):\n",
        "    itemsets = [frozenset([item]) for item in set(chain(*transactions))]\n",
        "    frequent_itemsets = {}\n",
        "\n",
        "    k = 2\n",
        "    while itemsets:\n",
        "        candidates = generate_candidates(itemsets, k)\n",
        "        frequent_candidates = prune_itemsets(candidates, min_support, transactions)\n",
        "        frequent_itemsets.update(frequent_candidates)\n",
        "        itemsets = list(frequent_candidates.keys())\n",
        "        k += 1\n",
        "\n",
        "    return frequent_itemsets\n",
        "\n",
        "def generate_association_rules(frequent_itemsets, min_confidence, transactions):\n",
        "    association_rules = []\n",
        "\n",
        "    for itemset in frequent_itemsets.keys():\n",
        "        if len(itemset) >= 2:\n",
        "            for subset in chain.from_iterable(combinations(itemset, r) for r in range(1, len(itemset))):\n",
        "                antecedent = frozenset(subset)\n",
        "                consequent = itemset - antecedent\n",
        "\n",
        "                support_itemset = frequent_itemsets[itemset]\n",
        "                support_antecedent = frequent_itemsets[antecedent] if antecedent in frequent_itemsets else 0\n",
        "\n",
        "                confidence = support_itemset / support_antecedent if support_antecedent > 0 else 0\n",
        "\n",
        "                if confidence >= min_confidence:\n",
        "                    association_rules.append((antecedent, consequent, support_itemset, confidence))\n",
        "\n",
        "    return association_rules\n",
        "\n",
        "transactions = [\n",
        "    ['bread', 'milk', 'eggs'],\n",
        "    ['bread', 'butter', 'jelly'],\n",
        "    ['milk', 'coffee'],\n",
        "    ['bread', 'milk', 'butter'],\n",
        "    ['eggs', 'coffee']\n",
        "]\n",
        "\n",
        "min_support = 0.4\n",
        "min_confidence = 0.7\n",
        "\n",
        "frequent_itemsets = apriori_algorithm(transactions, min_support)\n",
        "association_rules = generate_association_rules(frequent_itemsets, min_confidence, transactions)\n",
        "\n",
        "print(\"Frequent Itemsets:\")\n",
        "print(frequent_itemsets)\n",
        "\n",
        "print(\"\\nAssociation Rules:\")\n",
        "for rule in association_rules:\n",
        "    antecedent, consequent, support, confidence = rule\n",
        "    print(f\"{antecedent} => {consequent} (Support: {support}, Confidence: {confidence})\")\n"
      ],
      "metadata": {
        "colab": {
          "base_uri": "https://localhost:8080/"
        },
        "id": "oTkHPUy07eca",
        "outputId": "fa2b2af1-ae80-4140-9352-ef50a3a05ba6"
      },
      "execution_count": null,
      "outputs": [
        {
          "output_type": "stream",
          "name": "stdout",
          "text": [
            "Frequent Itemsets:\n",
            "{frozenset({'milk', 'bread'}): 0.4, frozenset({'bread', 'butter'}): 0.4}\n",
            "\n",
            "Association Rules:\n"
          ]
        },
        {
          "output_type": "stream",
          "name": "stderr",
          "text": [
            "/usr/local/lib/python3.10/dist-packages/ipykernel/ipkernel.py:283: DeprecationWarning: `should_run_async` will not call `transform_cell` automatically in the future. Please pass the result to `transformed_cell` argument and any exception that happen during thetransform in `preprocessing_exc_tuple` in IPython 7.17 and above.\n",
            "  and should_run_async(code)\n"
          ]
        }
      ]
    },
    {
      "cell_type": "code",
      "source": [
        "from pycfg.pycfg import PyCFG, CFGNode, slurp\n",
        "import argparse\n",
        "import tkinter as tk\n",
        "from PIL import ImageTk, Image\n",
        "\n",
        "if __name__ == '__main__':\n",
        "\tparser = argparse.ArgumentParser()\n",
        "\n",
        "\tparser.add_argument('pythonfile', help ='The python file to be analyzed')\n",
        "\targs = parser.parse_args()\n",
        "\tarcs = []\n",
        "\n",
        "\tcfg = PyCFG()\n",
        "\tcfg.gen_cfg(slurp(args.pythonfile).strip())\n",
        "\tg = CFGNode.to_graph(arcs)\n",
        "\tg.draw(args.pythonfile + '.png', prog ='dot')\n",
        "\n",
        "\t# Draw using tkinter.\n",
        "\troot = tk.Tk()\n",
        "\troot.title(\"Control Flow Graph\")\n",
        "\timg1 = Image.open(str(args.pythonfile) + \".png\") # PIL solution\n",
        "\timg1 = img1.resize((800, 600), Image.ANTIALIAS)\n",
        "\timg = ImageTk.PhotoImage(img1)\n",
        "\n",
        "\tbackground =\"gray\"\n",
        "\n",
        "\tpanel = tk.Label(root, height = 600, image = img)\n",
        "\tpanel.pack(side = \"top\", fill =\"both\", expand = \"yes\")\n",
        "\tnodes = g.number_of_nodes()\t # no. of nodes.\n",
        "\tedges = g.number_of_edges()\t # no. of Edges.\n",
        "\tcomplexity = edges - nodes + 2\t\t # Cyclomatic complexity\n",
        "\n",
        "\tframe = tk.Frame(root, bg = background)\n",
        "\tframe.pack(side =\"bottom\", fill =\"both\", expand = \"yes\")\n",
        "\n",
        "\ttk.Label(frame, text =\"Nodes\\t\\t\"+str(nodes), bg = background).pack()\n",
        "\ttk.Label(frame, text =\"Edges\\t\\t\"+str(edges), bg = background).pack()\n",
        "\ttk.Label(frame, text =\"Cyclo Complexity\\t\"+\n",
        "\t\t\tstr(complexity), bg = background).pack()\n",
        "\n",
        "\troot.mainloop()\n"
      ],
      "metadata": {
        "id": "82D-s9wqLuLo"
      },
      "execution_count": null,
      "outputs": []
    }
  ]
}